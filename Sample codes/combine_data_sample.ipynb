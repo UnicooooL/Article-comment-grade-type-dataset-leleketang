{
 "cells": [
  {
   "cell_type": "markdown",
   "id": "85acd775",
   "metadata": {},
   "source": [
    "## Import packages"
   ]
  },
  {
   "cell_type": "code",
   "execution_count": 1,
   "id": "2de3abac",
   "metadata": {},
   "outputs": [],
   "source": [
    "# import the packages\n",
    "from lxml import etree\n",
    "from bs4 import BeautifulSoup\n",
    "from fake_useragent import UserAgent\n",
    "import requests \n",
    "import pandas as pd\n",
    "from concurrent.futures import ThreadPoolExecutor\n",
    "import csv\n",
    "import os\n",
    "import time\n",
    "import random"
   ]
  },
  {
   "cell_type": "markdown",
   "id": "540b0d2b",
   "metadata": {},
   "source": [
    "## Get the raw data into dataframes"
   ]
  },
  {
   "cell_type": "code",
   "execution_count": null,
   "id": "c81de695",
   "metadata": {},
   "outputs": [],
   "source": [
    "file_dir = \"Your/path/goes/here.csv\"\n",
    "import csv\n",
    "with open(file_dir,'r', encoding = 'UTF-8') as csvfile:\n",
    "    data_reader = csv.reader(csvfile)\n",
    "\n",
    "    data_orig0 = []\n",
    "    for row in data_reader:\n",
    "        data_orig0.append(row)"
   ]
  },
  {
   "cell_type": "code",
   "execution_count": null,
   "id": "58e13d91",
   "metadata": {},
   "outputs": [],
   "source": [
    "len(data_orig0) # Testing file"
   ]
  },
  {
   "cell_type": "code",
   "execution_count": null,
   "id": "6aa269da",
   "metadata": {},
   "outputs": [],
   "source": [
    "# Custom column names for the header\n",
    "custom_columns = ['links', 'title', 'grade', 'type', 'content', 'comment']\n",
    "\n",
    "# Create the dataframe with custom headers\n",
    "df1 = pd.DataFrame(data_orig0, columns=custom_columns)"
   ]
  },
  {
   "cell_type": "code",
   "execution_count": null,
   "id": "e4071407",
   "metadata": {},
   "outputs": [],
   "source": [
    "df1 # Testing file"
   ]
  },
  {
   "cell_type": "markdown",
   "id": "08d63785",
   "metadata": {},
   "source": [
    "## Combine the dataframes"
   ]
  },
  {
   "cell_type": "code",
   "execution_count": null,
   "id": "2a9d6474",
   "metadata": {},
   "outputs": [],
   "source": [
    "# Combine the three dataframes together using concat\n",
    "final0 = pd.concat([df1, df0, df2], ignore_index=True)  # in this case, three dataframe in total for example"
   ]
  },
  {
   "cell_type": "code",
   "execution_count": null,
   "id": "1da0f702",
   "metadata": {},
   "outputs": [],
   "source": [
    "df_cleaned = final0[~(final0['title'] == 'N/A')]  # delete all invalid data"
   ]
  },
  {
   "cell_type": "markdown",
   "id": "ced82f46",
   "metadata": {},
   "source": [
    "## Store into CSV files"
   ]
  },
  {
   "cell_type": "code",
   "execution_count": null,
   "id": "e49efcf4",
   "metadata": {},
   "outputs": [],
   "source": [
    "# Store the combined dataframe into a CSV file\n",
    "final0.to_csv('Final/path/goes/here.csv', index=False)"
   ]
  }
 ],
 "metadata": {
  "kernelspec": {
   "display_name": "Python 3 (ipykernel)",
   "language": "python",
   "name": "python3"
  },
  "language_info": {
   "codemirror_mode": {
    "name": "ipython",
    "version": 3
   },
   "file_extension": ".py",
   "mimetype": "text/x-python",
   "name": "python",
   "nbconvert_exporter": "python",
   "pygments_lexer": "ipython3",
   "version": "3.10.9"
  }
 },
 "nbformat": 4,
 "nbformat_minor": 5
}
