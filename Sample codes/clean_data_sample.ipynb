{
 "cells": [
  {
   "cell_type": "markdown",
   "id": "f66493ae",
   "metadata": {},
   "source": [
    "## Import packages"
   ]
  },
  {
   "cell_type": "code",
   "execution_count": null,
   "id": "7f02d108",
   "metadata": {},
   "outputs": [],
   "source": [
    "import pandas as pd\n",
    "import re\n",
    "import csv"
   ]
  },
  {
   "cell_type": "markdown",
   "id": "63ca7d61",
   "metadata": {},
   "source": [
    "## Define functions"
   ]
  },
  {
   "cell_type": "code",
   "execution_count": null,
   "id": "9e2edb1b",
   "metadata": {},
   "outputs": [],
   "source": [
    "# Function to remove HTML tags from a string\n",
    "def remove_html_tags(text):\n",
    "    # Remove HTML tags\n",
    "    clean = re.compile(r'<.*?>')\n",
    "    text = re.sub(clean, '', text)\n",
    "    \n",
    "    # Remove other tags with the format \"\\\" followed by either a number or a character\n",
    "    text = re.sub(r'\\[0-9a-zA-Z]+', '', text)\n",
    "    \n",
    "    # Remove tabs and non-breaking spaces\n",
    "    text = text.replace('\\t', '').replace('\\xa0', '').replace('\\u3000', '').replace(r\"\\u\", '').replace('\\n', '')\n",
    "    \n",
    "    return text"
   ]
  },
  {
   "cell_type": "markdown",
   "id": "04568087",
   "metadata": {},
   "source": [
    "## Get the data"
   ]
  },
  {
   "cell_type": "code",
   "execution_count": null,
   "id": "22dd28ba",
   "metadata": {},
   "outputs": [],
   "source": [
    "df0 = pd.read_csv('Your/path/goes/here.csv')"
   ]
  },
  {
   "cell_type": "code",
   "execution_count": null,
   "id": "f4386545",
   "metadata": {},
   "outputs": [],
   "source": [
    "len(df0)"
   ]
  },
  {
   "cell_type": "code",
   "execution_count": null,
   "id": "9ae6124e",
   "metadata": {},
   "outputs": [],
   "source": [
    "file_dir = \"Your/path/goes/here.csv\"\n",
    "import csv\n",
    "with open(file_dir,'r', encoding = 'UTF-8') as csvfile:\n",
    "    data_reader = csv.reader(csvfile)\n",
    "\n",
    "    data_orig = []\n",
    "    for row in data_reader:\n",
    "        data_orig.append(row)"
   ]
  },
  {
   "cell_type": "code",
   "execution_count": null,
   "id": "2c6b8cc5",
   "metadata": {},
   "outputs": [],
   "source": [
    "# Apply the function to the 'content' column of the DataFrame\n",
    "df0['content'] = df0['content'].apply(remove_html_tags)\n",
    "df0['comment'] = df0['comment'].apply(remove_html_tags)"
   ]
  },
  {
   "cell_type": "markdown",
   "id": "330e4f7a",
   "metadata": {},
   "source": [
    "## Restore the data (cleaned)"
   ]
  },
  {
   "cell_type": "code",
   "execution_count": null,
   "id": "c61bd684",
   "metadata": {},
   "outputs": [],
   "source": [
    "# Save to a new csv file\n",
    "df0.to_csv('Final/path/goes/here.csv', index=False)"
   ]
  },
  {
   "cell_type": "code",
   "execution_count": null,
   "id": "85ef828d",
   "metadata": {},
   "outputs": [],
   "source": [
    "file_dir = \"Final/path/goes/here.csv\"\n",
    "import csv\n",
    "with open(file_dir,'r', encoding = 'UTF-8') as csvfile:\n",
    "    data_reader = csv.reader(csvfile)\n",
    "\n",
    "    data_orig = []\n",
    "    for row in data_reader:\n",
    "        data_orig.append(row)"
   ]
  },
  {
   "cell_type": "code",
   "execution_count": null,
   "id": "640c34c7",
   "metadata": {},
   "outputs": [],
   "source": [
    "len(data_orig)"
   ]
  }
 ],
 "metadata": {
  "kernelspec": {
   "display_name": "Python 3 (ipykernel)",
   "language": "python",
   "name": "python3"
  },
  "language_info": {
   "codemirror_mode": {
    "name": "ipython",
    "version": 3
   },
   "file_extension": ".py",
   "mimetype": "text/x-python",
   "name": "python",
   "nbconvert_exporter": "python",
   "pygments_lexer": "ipython3",
   "version": "3.10.9"
  }
 },
 "nbformat": 4,
 "nbformat_minor": 5
}
